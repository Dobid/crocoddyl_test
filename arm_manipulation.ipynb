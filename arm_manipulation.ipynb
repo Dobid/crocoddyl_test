{
 "cells": [
  {
   "cell_type": "markdown",
   "source": [
    "# Reaching multiple targets with a manipulator\n",
    "The objective of this exercise is to reach multiple targets with a manipulator.\n",
    "\n",
    "We provide a basic example for reaching one point, and you have to modify it for sequence of multiple targets. Below it is the basic example, there we'll guide you to the final result.\n"
   ],
   "metadata": {}
  },
  {
   "cell_type": "code",
   "execution_count": 253,
   "source": [
    "# %load arm_example.py\n",
    "import crocoddyl\n",
    "import pinocchio\n",
    "import numpy as np\n",
    "import example_robot_data\n",
    "\n",
    "robot = example_robot_data.load('talos_arm')\n",
    "robot_model = robot.model\n",
    "\n",
    "DT = 1e-3\n",
    "T = 25\n",
    "target = np.array([0.4, 0, 0.4])\n",
    "\n",
    "\n",
    "# affichage du bras robotique\n",
    "display = crocoddyl.GepettoDisplay(robot)\n",
    "\n",
    "# affichage de la sphère rouge (marqueur de référence)\n",
    "display.robot.viewer.gui.addSphere('world/point', .05, [1., 0., 0., 1.])  # radius = .1, RGBA=1001\n",
    "display.robot.viewer.gui.applyConfiguration('world/point', target.tolist() + [0., 0., 0., 1.])  # xyz+quaternion\n",
    "\n",
    "# actualisation : pour afficher les trucs juste au dessus\n",
    "display.robot.viewer.gui.refresh()\n",
    "\n",
    "# Create the cost functions\n",
    "Mref = crocoddyl.FrameTranslation(robot_model.getFrameId(\"gripper_left_joint\"), target) # Frame Translation entre main et arrivée (coordonnées de l'arrivée dans le repère de la main ?)\n",
    "state = crocoddyl.StateMultibody(robot.model) # états du bras robotique\n",
    "goalTrackingCost = crocoddyl.CostModelFrameTranslation(state, Mref) # Cost entre l'état actuel du bras et la position désirée finale\n",
    "xRegCost = crocoddyl.CostModelState(state) # Initialisation du modele de cout sur les états 0.5 x²\n",
    "uRegCost = crocoddyl.CostModelControl(state) # Initialisation du modele de cout sur les commandes 0.5x²\n",
    "\n",
    "# Create cost model per each action model\n",
    "runningCostModel = crocoddyl.CostModelSum(state) # Initialisation la somme de couts du model (en execution)\n",
    "terminalCostModel = crocoddyl.CostModelSum(state) # Initialisation de la somme de couts du model (final)\n",
    "\n",
    "# Then let's added the running and terminal cost functions\n",
    "runningCostModel.addCost(\"gripperPose\", goalTrackingCost, 1e2) # ajout de la fonction de cout goalTrackingCost (main du bras) au model \"running\" (exec) : poids 1e2\n",
    "runningCostModel.addCost(\"stateReg\", xRegCost, 1e-4) # ajout de la fonction de cout xRegCost (cout de l'état) au model running : poids 1e-4\n",
    "runningCostModel.addCost(\"ctrlReg\", uRegCost, 1e-7) # ajout de la fonction de cout uRegCost (cout de la commande) au model running : poids 1e-7\n",
    "terminalCostModel.addCost(\"gripperPose\", goalTrackingCost, 1e5) # ajout de la fonction de cout goalTrackingCost (main du bras) au model terminal : poids 1e5\n",
    "terminalCostModel.addCost(\"stateReg\", xRegCost, 1e-4) # ajout de la fonction de cout xRegCost (cout de l'état) au model terminal : poids de 1e-4\n",
    "terminalCostModel.addCost(\"ctrlReg\", uRegCost, 1e-7) # ajout de la fonction de cout uRegCost (cout de la commande) au model terminal : poids de 1e-7\n",
    "\n",
    "# Create the actuation model\n",
    "actuationModel = crocoddyl.ActuationModelFull(state) # initialisation de l'actionnement du systeme\n",
    "\n",
    "# Create the action model\n",
    "runningModel = crocoddyl.IntegratedActionModelEuler(\n",
    "    crocoddyl.DifferentialActionModelFreeFwdDynamics(state, actuationModel, runningCostModel), DT) # creation du modele \"runnning\" en cours d'exec : état du systeme + model d'actuation + runningCostModel + DT=1e-3\n",
    "terminalModel = crocoddyl.IntegratedActionModelEuler(\n",
    "    crocoddyl.DifferentialActionModelFreeFwdDynamics(state, actuationModel, terminalCostModel)) # creation du modele \"terminal\" final\n",
    "#runningModel.differential.armature = 0.2 * np.ones(state.nv)\n",
    "#terminalModel.differential.armature = 0.2 * np.ones(state.nv)\n",
    "\n",
    "# Create the problem\n",
    "q0 = np.array([2., 1.5, -2., 0., 0., 0., 0.]) # joints initiaux TODO : à tester, modifier pour etre sur (parler que ça marche pas / comprends pas)\n",
    "# q0 = np.array([0.2, 0.2, -0.2, 0., 0., 0., 0.]) # joints initiaux TODO : à tester, modifier pour etre sur\n",
    "\n",
    "x0 = np.concatenate([q0, pinocchio.utils.zero(state.nv)]) # états initiaux : joints pos + joints vitesses\n",
    "problem = crocoddyl.ShootingProblem(x0, [runningModel] * T, terminalModel) # creation du probleme : etat initial, models * 25 (running model), model final (terminal model)\n",
    "\n",
    "# Creating the DDP solver for this OC problem, defining a logger\n",
    "ddp = crocoddyl.SolverDDP(problem) # creation du DDP solver pour résoudre le probleme\n",
    "# ddp.setCallbacks([crocoddyl.CallbackVerbose()]) # set callbacks pour des logs\n",
    "ddp.setCallbacks([crocoddyl.CallbackDisplay(display)]) # set callbacks pour des logs\n",
    "\n",
    "# Solving it with the DDP algorithm\n",
    "ddp.solve() # le DDP résout le probleme\n",
    "\n",
    "# Visualizing the solution in gepetto-viewer\n",
    "display.displayFromSolver(ddp) # visualisation de la solution finale dans la simu\n",
    "\n",
    "robot_data = robot_model.createData() # creation des données à partir du model contient l'état actuel du bras pour afficher les coordonnées dans un print()\n",
    "xT = ddp.xs[-1]\n",
    "print(state.nq)\n",
    "pinocchio.forwardKinematics(robot_model, robot_data, xT[:state.nq])\n",
    "pinocchio.updateFramePlacements(robot_model, robot_data)\n",
    "print('Finally reached = ', robot_data.oMf[robot_model.getFrameId(\"gripper_left_joint\")].translation.T)"
   ],
   "outputs": [
    {
     "output_type": "stream",
     "name": "stdout",
     "text": [
      "7\n",
      "Finally reached =  [0.38255359 0.01645868 0.3964032 ]\n"
     ]
    }
   ],
   "metadata": {}
  },
  {
   "cell_type": "markdown",
   "source": [
    "### II.b State cost\n",
    "In this part of the tutorial you must define a State model. It defines \n",
    " - the dimension of the state and its tangent, and\n",
    " - the exponential/integrate and difference/log operators.\n",
    "The operators can described using Pinocchio functions. And the exercite consists on adding them into your State class. Please note crocoddyl has abstract functions for this.\n",
    "\n",
    "The state cost uses a reference in state space (State.zero() by default). The cost is the distance, computed with state.difference between the current state and the reference. Hence, with this cost, we regularize both position and velocity.\n",
    "\n",
    "### II.c Control cost\n",
    "\n",
    "The control cost uses a control reference as in the state cost. The cost is the distance the current control and the reference. Hence the cost regularizes torque commands."
   ],
   "metadata": {}
  },
  {
   "cell_type": "markdown",
   "source": [
    "## I. DifferentialActionModel for Pinocchio ABA\n",
    "This scenario uses an action model that computes 2nd order differential dynamics with Pinocchio. Note that it can accept several cost models. This action model is tailored for robot applications, and at the same time, it's modular since:\n",
    " - you can modify the robot dynamics by changing Pinocchio model, and\n",
    " - you can formulate any cost function by simply adding running and terminal costs.\n",
    "\n",
    "## II. Cost models\n",
    "\n",
    "A cost model computes a scalar cost value and its gradient and Hessian. All the models implemented are computing a cost residual and are computing the Hessian with the Gauss approximation.\n",
    "\n",
    "We implemented reusable cost models for controlling \n",
    " - a frame placement (translation or velocity),\n",
    " - the center of mass position, and \n",
    " - state  and control spaces.\n",
    "\n",
    "In the example above, we used the CostModelFrameTranslation which defines a 3d position task, and the state and control regularizers.\n",
    "\n",
    "As for any cost model in crocoddyl, if you write your own cost model you need to create a data class for your cost function. The cost data must be created from a pinocchio data (the rational is that the pinocchio data used to compute the dynamics should be re-used to compute the cost).\n"
   ],
   "metadata": {}
  },
  {
   "cell_type": "code",
   "execution_count": 254,
   "source": [
    "dataCollector = crocoddyl.DataCollectorMultibody(robot.data)\n",
    "trackData = goalTrackingCost.createData(dataCollector)"
   ],
   "outputs": [],
   "metadata": {}
  },
  {
   "cell_type": "markdown",
   "source": [
    "### II.a Frame position cost\n",
    "\n",
    "You define a frame ID and the reference position as a 3D array. The cost is the distance between the frame and the target. This cost depends on $\\mathbf{x}$ (specifically the configuration $\\mathbf{q}$). You can double check the 0s in its gradient."
   ],
   "metadata": {}
  },
  {
   "cell_type": "code",
   "execution_count": 255,
   "source": [
    "pinocchio.updateFramePlacements(robot.model, robot.data)\n",
    "pinocchio.computeJointJacobians(robot.model, robot.data, xT[:state.nq])\n",
    "goalTrackingCost.calc(trackData, x0)\n",
    "goalTrackingCost.calcDiff(trackData, x0)\n",
    "print(trackData.Lx, trackData.Lu) # print Jacobian of cost functions (x et u) : matrice de derivée 1er ordre. [valeurs pour les angles moteur contribuant à configuration q, 6 premiers, pas le dernier(moteur doigts)]\n",
    "# les autres c'est les vitesses des moteurs et l'autre tableau c'est la commande (torque) donc y'a des zéros"
   ],
   "outputs": [
    {
     "output_type": "stream",
     "name": "stdout",
     "text": [
      "[-0.0053234  -0.00557997 -0.00192322  0.00066331 -0.00079466 -0.0006631\n",
      "  0.          0.          0.          0.          0.          0.\n",
      "  0.          0.        ] [0. 0. 0. 0. 0. 0. 0.]\n"
     ]
    }
   ],
   "metadata": {}
  },
  {
   "cell_type": "markdown",
   "source": [
    "### II.d Add cost models to the differential action model\n",
    "Each time we want to include a new cost function, we use addCost function inside our DAM. In this function you're also able its weight. (DAM = Differential Action Model ?)"
   ],
   "metadata": {}
  },
  {
   "cell_type": "markdown",
   "source": [
    "## III. Create the problem with integrated action model\n",
    "Differential action models describe cost and dynamics in continuous-time, however our optimal control solvers work in discrete-time. We have created the integrated action model in order to deal with this.\n",
    "\n",
    "In the previous code, we have used an abstract class that uses simpletic Euler rules. In the cartpole exercise you have learnt how to use integrated action models for your problem."
   ],
   "metadata": {}
  },
  {
   "cell_type": "markdown",
   "source": [
    "## IV. Callbacks\n",
    "\n",
    "Callback functions are needed for analysing and debugging the performance of the solver for your specific problem.\n",
    "For problems defined with Pinocchio, you can display the robot trajectory per each iterate by including CallbackDisplay. With this callback, you can display robot motions with different rates. Additionally, CallbackVerbose prints a message that allows us to understand the behaviour of the solver.\n",
    "\n",
    "Generally speaking, an user is able to describe any callback function. This function will be run once per iterate and it has access to all data."
   ],
   "metadata": {}
  },
  {
   "cell_type": "markdown",
   "source": [
    "## VI. Modifying the example\n",
    "\n",
    "Start by defining several targets (let's say 4 targets, all at x=0.4, and at y and z being either 0 or 0.4), and display then in the viewer.\n"
   ],
   "metadata": {}
  },
  {
   "cell_type": "code",
   "execution_count": 256,
   "source": [
    "targets = np.array([[0.4, 0., 0.4],\n",
    "                    [0.4, 0.4, 0.4],\n",
    "                    [0.4, 0.4, 0.],\n",
    "                    [0.4, 0., 0.]])\n",
    "# target1 = np.array([0.4, 0., 0.4])\n",
    "# target2 = np.array([0.4, 0.4, 0.])\n",
    "# target3 = np.array([0.4, 0.4, 0.4])\n",
    "# target4 = np.array([0.4, 0., 0.])\n",
    "\n",
    "display.robot.viewer.gui.addSphere('world/point1', .05, [1., 0., 0., 1.])  # radius = .1, RGBA=1001\n",
    "display.robot.viewer.gui.applyConfiguration('world/point1', targets[0,:].tolist() + [0., 0., 0., 1.])  # xyz+quaternion\n",
    "\n",
    "display.robot.viewer.gui.addSphere('world/point2', .05, [1., 0., 0., 1.])  # radius = .1, RGBA=1001\n",
    "display.robot.viewer.gui.applyConfiguration('world/point2', targets[1,:].tolist() + [0., 0., 0., 1.])  # xyz+quaternion\n",
    "\n",
    "display.robot.viewer.gui.addSphere('world/point3', .05, [1., 0., 0., 1.])  # radius = .1, RGBA=1001\n",
    "display.robot.viewer.gui.applyConfiguration('world/point3', targets[2,:].tolist() + [0., 0., 0., 1.])  # xyz+quaternion\n",
    "\n",
    "display.robot.viewer.gui.addSphere('world/point4', .05, [1., 0., 0., 1.])  # radius = .1, RGBA=1001\n",
    "display.robot.viewer.gui.applyConfiguration('world/point4', targets[3,:].tolist() + [0., 0., 0., 1.])  # xyz+quaternion\n",
    "\n",
    "display.robot.viewer.gui.refresh()"
   ],
   "outputs": [],
   "metadata": {}
  },
  {
   "cell_type": "markdown",
   "source": [
    "The shooting problem will be composed of 4 sequences of action models. Each sequence consists on T shooting \"running\" nodes and 1 terminal node. The running nodes mostly have regularization terms, while the terminal nodes have a strong cost toward the respective target.\n",
    "\n",
    "[ R1,R1,R1 ... R1,T1, R2,R2 .... R2, T2, R3 ... R3, T3, R4 ... R4 ] , T4\n",
    "\n",
    "First create 4 running models and 4 terminal models."
   ],
   "metadata": {}
  },
  {
   "cell_type": "code",
   "execution_count": 257,
   "source": [
    "state = crocoddyl.StateMultibody(robot.model)\n",
    "\n",
    "runningCostModels = [crocoddyl.CostModelSum(state)] * 4\n",
    "terminalCostModels = [crocoddyl.CostModelSum(state)] * 4\n"
   ],
   "outputs": [],
   "metadata": {}
  },
  {
   "cell_type": "markdown",
   "source": [
    "Then you need to add a position cost, and state and control regularization to each running action model. Please  note that for terminal action model is only needed the position cost. Additionally, in the running models, the position cost should be low, and it should be high in the terminal models."
   ],
   "metadata": {}
  },
  {
   "cell_type": "code",
   "execution_count": 258,
   "source": [
    "Mref0 = crocoddyl.FrameTranslation(robot_model.getFrameId(\"gripper_left_joint\"), targets[0,:])\n",
    "goalTrackingCost0 = crocoddyl.CostModelFrameTranslation(state, Mref0)\n",
    "xRegCost0 = crocoddyl.CostModelState(state)\n",
    "uRegCost0 = crocoddyl.CostModelControl(state)\n",
    "\n",
    "Mref1 = crocoddyl.FrameTranslation(robot_model.getFrameId(\"gripper_left_joint\"), targets[1,:])\n",
    "goalTrackingCost1 = crocoddyl.CostModelFrameTranslation(state, Mref1)\n",
    "xRegCost1 = crocoddyl.CostModelState(state)\n",
    "uRegCost1 = crocoddyl.CostModelControl(state)\n",
    "\n",
    "Mref2 = crocoddyl.FrameTranslation(robot_model.getFrameId(\"gripper_left_joint\"), targets[2,:])\n",
    "goalTrackingCost2 = crocoddyl.CostModelFrameTranslation(state, Mref2)\n",
    "xRegCost2 = crocoddyl.CostModelState(state)\n",
    "uRegCost2 = crocoddyl.CostModelControl(state)\n",
    "\n",
    "Mref3 = crocoddyl.FrameTranslation(robot_model.getFrameId(\"gripper_left_joint\"), targets[3,:])\n",
    "goalTrackingCost3 = crocoddyl.CostModelFrameTranslation(state, Mref3)\n",
    "xRegCost3 = crocoddyl.CostModelState(state)\n",
    "uRegCost3 = crocoddyl.CostModelControl(state)\n",
    "\n",
    "runningCostModels[0].addCost(\"gripperPose0\", goalTrackingCost0, 1e5) # 1e2\n",
    "runningCostModels[1].addCost(\"gripperPose1\", goalTrackingCost1, 1e5)\n",
    "runningCostModels[2].addCost(\"gripperPose2\", goalTrackingCost2, 1e5)\n",
    "runningCostModels[3].addCost(\"gripperPose3\", goalTrackingCost3, 1e5)\n",
    "\n",
    "runningCostModels[0].addCost(\"stateReg0\", xRegCost0, 1e-4)\n",
    "runningCostModels[1].addCost(\"stateReg1\", xRegCost1, 1e-4)\n",
    "runningCostModels[2].addCost(\"stateReg2\", xRegCost2, 1e-4)\n",
    "runningCostModels[3].addCost(\"stateReg3\", xRegCost3, 1e-4)\n",
    "\n",
    "runningCostModels[0].addCost(\"ctrlReg0\", uRegCost0, 1e-7)\n",
    "runningCostModels[1].addCost(\"ctrlReg1\", uRegCost1, 1e-7)\n",
    "runningCostModels[2].addCost(\"ctrlReg2\", uRegCost2, 1e-7)\n",
    "runningCostModels[3].addCost(\"ctrlReg3\", uRegCost3, 1e-7)\n",
    "\n",
    "terminalCostModels[0].addCost(\"gripperPose0\", goalTrackingCost0, 1e2) # 1e5\n",
    "terminalCostModels[1].addCost(\"gripperPose1\", goalTrackingCost1, 1e2)\n",
    "terminalCostModels[2].addCost(\"gripperPose2\", goalTrackingCost2, 1e2)\n",
    "terminalCostModels[3].addCost(\"gripperPose3\", goalTrackingCost3, 1e6)\n",
    "# terminalCostModels[1].addCost(\"gripperPose1\", goalTrackingCost1, 1e9)\n",
    "# terminalCostModels[2].addCost(\"gripperPose2\", goalTrackingCost2, 1e12)\n",
    "# terminalCostModels[3].addCost(\"gripperPose3\", goalTrackingCost3, 1e15)\n",
    "\n",
    "terminalCostModels[0].addCost(\"stateReg0\", xRegCost0, 1e-4)\n",
    "terminalCostModels[1].addCost(\"stateReg1\", xRegCost1, 1e-4)\n",
    "terminalCostModels[2].addCost(\"stateReg2\", xRegCost2, 1e-4)\n",
    "terminalCostModels[3].addCost(\"stateReg3\", xRegCost3, 1e-4)\n",
    "\n",
    "terminalCostModels[0].addCost(\"ctrlReg0\", uRegCost0, 1e-7)\n",
    "terminalCostModels[1].addCost(\"ctrlReg1\", uRegCost1, 1e-7)\n",
    "terminalCostModels[2].addCost(\"ctrlReg2\", uRegCost2, 1e-7)\n",
    "terminalCostModels[3].addCost(\"ctrlReg3\", uRegCost3, 1e-7)\n",
    "\n",
    "actuationModel = crocoddyl.ActuationModelFull(state)\n",
    "\n",
    "runningModels = [None] * 4\n",
    "runningModels[0] = crocoddyl.IntegratedActionModelEuler(\n",
    "    crocoddyl.DifferentialActionModelFreeFwdDynamics(state, actuationModel, runningCostModels[0]), DT)\n",
    "runningModels[1] = crocoddyl.IntegratedActionModelEuler(\n",
    "    crocoddyl.DifferentialActionModelFreeFwdDynamics(state, actuationModel, runningCostModels[1]), DT)\n",
    "runningModels[2] = crocoddyl.IntegratedActionModelEuler(\n",
    "    crocoddyl.DifferentialActionModelFreeFwdDynamics(state, actuationModel, runningCostModels[2]), DT)\n",
    "runningModels[3] = crocoddyl.IntegratedActionModelEuler(\n",
    "    crocoddyl.DifferentialActionModelFreeFwdDynamics(state, actuationModel, runningCostModels[3]), DT)\n",
    "\n",
    "terminalModels = [None] * 4\n",
    "terminalModels[0] = crocoddyl.IntegratedActionModelEuler(\n",
    "    crocoddyl.DifferentialActionModelFreeFwdDynamics(state, actuationModel, terminalCostModels[0]))\n",
    "terminalModels[1] = crocoddyl.IntegratedActionModelEuler(\n",
    "    crocoddyl.DifferentialActionModelFreeFwdDynamics(state, actuationModel, terminalCostModels[1]))\n",
    "terminalModels[2] = crocoddyl.IntegratedActionModelEuler(\n",
    "    crocoddyl.DifferentialActionModelFreeFwdDynamics(state, actuationModel, terminalCostModels[2]))\n",
    "terminalModels[3] = crocoddyl.IntegratedActionModelEuler(\n",
    "    crocoddyl.DifferentialActionModelFreeFwdDynamics(state, actuationModel, terminalCostModels[3]))"
   ],
   "outputs": [],
   "metadata": {}
  },
  {
   "cell_type": "markdown",
   "source": [
    "Now create a shooting problem."
   ],
   "metadata": {}
  },
  {
   "cell_type": "code",
   "execution_count": 259,
   "source": [
    "seq0 = [runningModels[0]]*T + [terminalModels[0]]\n",
    "# seq1 = [runningModels[1]]*T + [terminalModels[1]]\n",
    "# seq2 = [runningModels[2]]*T + [terminalModels[2]]\n",
    "# seq3 = [runningModels[3]]*T \n",
    "problem = crocoddyl.ShootingProblem(x0,[runningModels[0]]*T ,terminalModels[0])\n",
    "# problem = crocoddyl.ShootingProblem(x0,seq0+seq1,terminalModels[1])\n",
    "# problem = crocoddyl.ShootingProblem(x0,seq0+seq1+seq2,terminalModels[2])\n",
    "# problem = crocoddyl.ShootingProblem(x0,seq0+seq1+seq2+seq3,terminalModels[3])"
   ],
   "outputs": [],
   "metadata": {}
  },
  {
   "cell_type": "markdown",
   "source": [
    "Create a DDP solver for this problem and run it. "
   ],
   "metadata": {}
  },
  {
   "cell_type": "code",
   "execution_count": 260,
   "source": [
    "ddp = crocoddyl.SolverDDP(problem)\n",
    "ddp.setCallbacks([crocoddyl.CallbackDisplay(display)]) # set callbacks pour des logs\n",
    "ddp.solve()\n",
    "display.displayFromSolver(ddp) # visualisation de la solution finale dans la simu"
   ],
   "outputs": [],
   "metadata": {}
  },
  {
   "cell_type": "markdown",
   "source": [
    "Well, it should not work, at least no on the first shot. The DDP solver is likely not strong enough to accept the random weights that you have selected. \n",
    "\n",
    "If it is working nicely from the first shot, display it in the viewer and go take a coffee. But you will likely have to tweak the gains to make it work.\n",
    "\n",
    "**It is suggested to first optimize only sequence 1. When you are happy with it, add sequence 2 and optimize again, etc.**\n"
   ],
   "metadata": {}
  },
  {
   "cell_type": "markdown",
   "source": [
    "## V. Penalty\n",
    "The solver works with double precisions, so it is quite robust to high weight. 10000 is likely to be accepted for example. But if you make the problem too difficult, the solver will break. \n",
    "\n",
    "In that case, you can implement a simple penalty solver by setting the weight to be 10**i, and creating a for loop to explore i from 0 to 5. At each iteration of the loop, run the solver from the previous solution and for few iterations only."
   ],
   "metadata": {}
  },
  {
   "cell_type": "code",
   "execution_count": 261,
   "source": [
    "for i in range(1,6):\n",
    "    for m in terminalModels:\n",
    "        m.costs.costs['gripperPose'].weight = 10**i\n",
    "    ddp.solve(ddp.xs, ddp.us, 10)"
   ],
   "outputs": [
    {
     "output_type": "error",
     "ename": "AttributeError",
     "evalue": "'IntegratedActionModelEuler' object has no attribute 'costs'",
     "traceback": [
      "\u001b[0;31m---------------------------------------------------------------------------\u001b[0m",
      "\u001b[0;31mAttributeError\u001b[0m                            Traceback (most recent call last)",
      "\u001b[0;32m<ipython-input-261-0e4f977c8039>\u001b[0m in \u001b[0;36m<module>\u001b[0;34m\u001b[0m\n\u001b[1;32m      1\u001b[0m \u001b[0;32mfor\u001b[0m \u001b[0mi\u001b[0m \u001b[0;32min\u001b[0m \u001b[0mrange\u001b[0m\u001b[0;34m(\u001b[0m\u001b[0;36m1\u001b[0m\u001b[0;34m,\u001b[0m\u001b[0;36m6\u001b[0m\u001b[0;34m)\u001b[0m\u001b[0;34m:\u001b[0m\u001b[0;34m\u001b[0m\u001b[0;34m\u001b[0m\u001b[0m\n\u001b[1;32m      2\u001b[0m     \u001b[0;32mfor\u001b[0m \u001b[0mm\u001b[0m \u001b[0;32min\u001b[0m \u001b[0mterminalModels\u001b[0m\u001b[0;34m:\u001b[0m\u001b[0;34m\u001b[0m\u001b[0;34m\u001b[0m\u001b[0m\n\u001b[0;32m----> 3\u001b[0;31m         \u001b[0mm\u001b[0m\u001b[0;34m.\u001b[0m\u001b[0mcosts\u001b[0m\u001b[0;34m.\u001b[0m\u001b[0mcosts\u001b[0m\u001b[0;34m[\u001b[0m\u001b[0;34m'gripperPose'\u001b[0m\u001b[0;34m]\u001b[0m\u001b[0;34m.\u001b[0m\u001b[0mweight\u001b[0m \u001b[0;34m=\u001b[0m \u001b[0;36m10\u001b[0m\u001b[0;34m**\u001b[0m\u001b[0mi\u001b[0m\u001b[0;34m\u001b[0m\u001b[0;34m\u001b[0m\u001b[0m\n\u001b[0m\u001b[1;32m      4\u001b[0m     \u001b[0mddp\u001b[0m\u001b[0;34m.\u001b[0m\u001b[0msolve\u001b[0m\u001b[0;34m(\u001b[0m\u001b[0mddp\u001b[0m\u001b[0;34m.\u001b[0m\u001b[0mxs\u001b[0m\u001b[0;34m,\u001b[0m \u001b[0mddp\u001b[0m\u001b[0;34m.\u001b[0m\u001b[0mus\u001b[0m\u001b[0;34m,\u001b[0m \u001b[0;36m10\u001b[0m\u001b[0;34m)\u001b[0m\u001b[0;34m\u001b[0m\u001b[0;34m\u001b[0m\u001b[0m\n",
      "\u001b[0;31mAttributeError\u001b[0m: 'IntegratedActionModelEuler' object has no attribute 'costs'"
     ]
    }
   ],
   "metadata": {}
  }
 ],
 "metadata": {
  "kernelspec": {
   "name": "python3",
   "display_name": "Python 3.8.5 64-bit ('crocoddyl': conda)"
  },
  "language_info": {
   "name": "python",
   "version": "3.8.5",
   "mimetype": "text/x-python",
   "codemirror_mode": {
    "name": "ipython",
    "version": 3
   },
   "pygments_lexer": "ipython3",
   "nbconvert_exporter": "python",
   "file_extension": ".py"
  },
  "interpreter": {
   "hash": "0b7ff8cd0704efbb48c5c70801c012fab7828cf943835f3c6dd76411b4358dca"
  }
 },
 "nbformat": 4,
 "nbformat_minor": 2
}