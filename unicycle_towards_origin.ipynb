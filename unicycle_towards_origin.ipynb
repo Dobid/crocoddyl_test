{
 "cells": [
  {
   "cell_type": "markdown",
   "source": [
    "# Starting example: the unicycle\n",
    "\n",
    "![image.png](attachment:image.png)\n",
    "\n",
    "An unicycle represents a kinematic model of a car where it's only possible to move in two directions, i.e. it drives forward and turns on the spot. Its dynamics has nonholonomic constraints because it cannot move sideways. Remember that nonholonomic constraints are nonintegral and has the form $\\mathbf{f(q,\\dot{q})=0}$.\n",
    "\n",
    "In this example, we define an optimal-control problem for the classical unicycle problem. Our goal is to drive the unicycle towards the origin but at the same time not too fast. For that, the cost function is described as the sum between the distance to the origin and the system speed.\n",
    "\n",
    "\n",
    "**Issue on Ubuntu 16.04**\n",
    "\n",
    "You need to upgrate the matplotlib library, please do:\n",
    " - pip install --upgrade --user pip\n",
    " - pip install --upgrade --user matplotlib\n",
    "\n",
    "Basically, our optimal control problem has the following dynamical model and cost function:"
   ],
   "metadata": {},
   "attachments": {
    "image.png": {
     "image/png": "[encoded data removed]"
    }
   }
  },
  {
   "cell_type": "code",
   "execution_count": 174,
   "source": [
    "import numpy as np\n",
    "import matplotlib.pylab as plt\n",
    "\n",
    "x = np.random.rand(3) # états [pos_x, pos_y, yaw]\n",
    "u = np.random.rand(2) # commande [lin_vel, ang_vel]\n",
    "\n",
    "# Unicycle dynamical model\n",
    "v, w = u # v: vitesse linéaire, w: vitesse angulaire (cap, theta)\n",
    "c, s = np.cos(x[2]), np.sin(x[2]) # [composantes x et y du yaw (cap) du robot]\n",
    "dt = 1e-2 # element de temps (durée d'un pas de temps)\n",
    "dx = np.array([v * c, v * s, w]) # variation d'état (vitesse linéaire selon x, \"\" \"\" selon y, vitesse cap)\n",
    "xnext = x + dx * dt # état du système à l'instant t + 1 (après application de la commande v et w)\n",
    "\n",
    "# Cost function: driving to origin (state) and reducing speed (control)\n",
    "stateWeight = 1 # poids du coût \"états\" (distance à l'origine du repère)\n",
    "ctrlWeight = 1 # poids du coût \"commande\" (vitesse du système)\n",
    "costResiduals = np.concatenate([stateWeight * x, ctrlWeight * u]) # concaténation des deux coûts dans un même tableau\n",
    "cost = .5 * sum(costResiduals ** 2) # fonction de coût totale : 1/2 somme(coût total)^2"
   ],
   "outputs": [],
   "metadata": {}
  },
  {
   "cell_type": "markdown",
   "source": [
    "For this basic example, the unicycle model is coded in the library. We will just load it and use it. If you are very curious, have a look! It is in `crocoddyl/unicycle.py`. "
   ],
   "metadata": {}
  },
  {
   "cell_type": "markdown",
   "source": [
    "We create such a model with the following lines:"
   ],
   "metadata": {}
  },
  {
   "cell_type": "code",
   "execution_count": 175,
   "source": [
    "import crocoddyl\n",
    "model = crocoddyl.ActionModelUnicycle() # action model contenant la dynamique du système, la fonction de coût, \n",
    "                                        # matrice Q (cost) avec les jacobiens et hessiens de la fonction de coût et de la dynamique du système\n",
    "data = model.createData() # données contenant les buffers contenant les résultats "
   ],
   "outputs": [],
   "metadata": {}
  },
  {
   "cell_type": "markdown",
   "source": [
    "The action model contains ... well ... the description of the dynamics and cost function. There you find also the action model parameters (here the time step and the cost weights). On the other hand, the data has the buffers where the results of the calculus are stored.\n",
    "\n",
    "We decided for this separation for an obvious reason that is given just below."
   ],
   "metadata": {}
  },
  {
   "cell_type": "code",
   "execution_count": 176,
   "source": [
    "model.costWeights = np.matrix([\n",
    "    1.25,   # state weight\n",
    "    1    # control weight\n",
    "]).T"
   ],
   "outputs": [],
   "metadata": {}
  },
  {
   "cell_type": "markdown",
   "source": [
    "**You can further understand the mathematical definition of action models see introduction_to_crocoddyl.ipynb**"
   ],
   "metadata": {}
  },
  {
   "cell_type": "markdown",
   "source": [
    "## I. Defining the shooting problem\n",
    "A shooting problem is defined by the initial state from which computing the rollout and a sequence of action models.\n"
   ],
   "metadata": {}
  },
  {
   "cell_type": "code",
   "execution_count": 177,
   "source": [
    "x0 = np.matrix([3., -4, 3.14]).T  # x, y, theta :  état initial du système\n",
    "T = 60 # nombre de noeuds (sous-problèmes)\n",
    "problem = crocoddyl.ShootingProblem(x0, [model] * T, model) # définition du probleme : on part du x0 (pos initiale), \n",
    "                                                            # \"running action models\", \n",
    "                                                            # \"terminal action model\" (origine par défaut)\n"
   ],
   "outputs": [],
   "metadata": {}
  },
  {
   "cell_type": "markdown",
   "source": [
    "Here we define a problem starting from $\\mathbf{x}_0$ with 20 timesteps (of 0.1 sec by default implementation of unicycle). The terminal action model is defined using the running action model.\n",
    "\n",
    "This defines the model, not any algorithm to solve it. The only computation that the problem can provide is to integrate the system for a given sequence of controls."
   ],
   "metadata": {}
  },
  {
   "cell_type": "code",
   "execution_count": 178,
   "source": [
    "us = [np.matrix([1., 1.]).T for _ in range(T)] # commandes tout au long du problème (for _ in range T) 20s \n",
    "                                               # : vitesse linéaire et vitesse angulaire theta (yaw)\n",
    "xs = problem.rollout(us) # \"step\" application des commandes (de la commande) tout au long du problème (20s). \n",
    "                         # Intégration du système selon une commande pour reconstruire l'état"
   ],
   "outputs": [],
   "metadata": {}
  },
  {
   "cell_type": "markdown",
   "source": [
    "The plotUnicycle function plots the system as two arrows that represent the wheels"
   ],
   "metadata": {}
  },
  {
   "cell_type": "code",
   "execution_count": 179,
   "source": [
    "%matplotlib inline\n",
    "from unicycle_utils import plotUnicycle\n",
    "for x in xs: \n",
    "    plotUnicycle(x)\n",
    "plt.axis([-2, 2., -2., 2.])"
   ],
   "outputs": [
    {
     "output_type": "execute_result",
     "data": {
      "text/plain": [
       "(-2.0, 2.0, -2.0, 2.0)"
      ]
     },
     "metadata": {},
     "execution_count": 179
    },
    {
     "output_type": "display_data",
     "data": {
      "text/plain": [
       "<Figure size 432x288 with 1 Axes>"
      ],
      "image/png": "[encoded data removed]"
     },
     "metadata": {
      "needs_background": "light"
     }
    }
   ],
   "metadata": {}
  },
  {
   "cell_type": "markdown",
   "source": [
    "## II. Solve the OCP\n",
    "The main solver is named SolverDDP. It is initialized from the problem object and mostly contains the ddp.solve method. We can warm start it and tune the parameters, but for the simple unicycle, let's just solve it!"
   ],
   "metadata": {}
  },
  {
   "cell_type": "code",
   "execution_count": 180,
   "source": [
    "ddp = crocoddyl.SolverDDP(problem)\n",
    "done = ddp.solve()\n",
    "assert done"
   ],
   "outputs": [],
   "metadata": {}
  },
  {
   "cell_type": "code",
   "execution_count": 181,
   "source": [
    "plt.clf()\n",
    "for x in ddp.xs: \n",
    "    plotUnicycle(x)\n",
    "plt.axis([-1, 5, -5, 1])"
   ],
   "outputs": [
    {
     "output_type": "execute_result",
     "data": {
      "text/plain": [
       "(-1.0, 5.0, -5.0, 1.0)"
      ]
     },
     "metadata": {},
     "execution_count": 181
    },
    {
     "output_type": "display_data",
     "data": {
      "text/plain": [
       "<Figure size 432x288 with 1 Axes>"
      ],
      "image/png": "[encoded data removed]"
     },
     "metadata": {
      "needs_background": "light"
     }
    }
   ],
   "metadata": {}
  },
  {
   "cell_type": "markdown",
   "source": [
    "and the final state is:"
   ],
   "metadata": {}
  },
  {
   "cell_type": "code",
   "execution_count": 182,
   "source": [
    "print(ddp.xs[-1])"
   ],
   "outputs": [
    {
     "output_type": "stream",
     "name": "stdout",
     "text": [
      "[ 0.00043163 -0.1904396  -0.00270055]\n"
     ]
    }
   ],
   "metadata": {}
  },
  {
   "cell_type": "markdown",
   "source": [
    "# Well, the terminal state is not so nicely in the origin.\n",
    "\n",
    "Question 1: why?\n",
    "\n",
    "Question 2: How can you change this?\n",
    "\n",
    "Question 3: by changing the cost parameters, the time horizon and the initial position, can you trigger a maneuver?"
   ],
   "metadata": {}
  }
 ],
 "metadata": {
  "kernelspec": {
   "name": "python3",
   "display_name": "Python 3.8.5 64-bit ('crocoddyl': conda)"
  },
  "language_info": {
   "codemirror_mode": {
    "name": "ipython",
    "version": 3
   },
   "file_extension": ".py",
   "mimetype": "text/x-python",
   "name": "python",
   "nbconvert_exporter": "python",
   "pygments_lexer": "ipython3",
   "version": "3.8.5"
  },
  "interpreter": {
   "hash": "0b7ff8cd0704efbb48c5c70801c012fab7828cf943835f3c6dd76411b4358dca"
  }
 },
 "nbformat": 4,
 "nbformat_minor": 2
}